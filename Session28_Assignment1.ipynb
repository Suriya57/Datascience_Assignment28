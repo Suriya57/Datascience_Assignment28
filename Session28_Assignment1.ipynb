{
 "cells": [
  {
   "cell_type": "code",
   "execution_count": 18,
   "metadata": {},
   "outputs": [
    {
     "name": "stdout",
     "output_type": "stream",
     "text": [
      "[nltk_data] Downloading package stopwords to\n",
      "[nltk_data]     C:\\Users\\HP\\AppData\\Roaming\\nltk_data...\n",
      "[nltk_data]   Package stopwords is already up-to-date!\n"
     ]
    }
   ],
   "source": [
    "# NLTK processing Assignment\n",
    "\n",
    "from bs4 import BeautifulSoup\n",
    "import urllib.request\n",
    "import nltk\n",
    "import matplotlib as plt\n",
    "%matplotlib inline\n",
    "nltk.download('stopwords')\n",
    "from nltk.corpus import stopwords"
   ]
  },
  {
   "cell_type": "code",
   "execution_count": 7,
   "metadata": {},
   "outputs": [],
   "source": [
    "response = urllib.request.urlopen('http://php.net/')\n",
    "html = response.read()"
   ]
  },
  {
   "cell_type": "code",
   "execution_count": 8,
   "metadata": {},
   "outputs": [],
   "source": [
    "# Variable assignment\n",
    "soup = BeautifulSoup(html,\"html5lib\")"
   ]
  },
  {
   "cell_type": "code",
   "execution_count": 10,
   "metadata": {},
   "outputs": [
    {
     "data": {
      "text/plain": [
       "3896"
      ]
     },
     "execution_count": 10,
     "metadata": {},
     "output_type": "execute_result"
    }
   ],
   "source": [
    "# Readig the file and extracting the words using split() function \n",
    "text = soup.get_text()\n",
    "words = [x for x in text.split()] \n",
    "len(words)"
   ]
  },
  {
   "cell_type": "code",
   "execution_count": 13,
   "metadata": {},
   "outputs": [
    {
     "data": {
      "text/plain": [
       "2738"
      ]
     },
     "execution_count": 13,
     "metadata": {},
     "output_type": "execute_result"
    }
   ],
   "source": [
    "# Extracting only the whole words and removing unncessary characters\n",
    "clean_words = words[:] \n",
    "stop = stopwords.words('english')\n",
    "for words in words: \n",
    "    if words in stopwords.words('english'): \n",
    "        clean_words.remove(words) \n",
    "\n",
    "len(clean_words)"
   ]
  },
  {
   "cell_type": "code",
   "execution_count": 14,
   "metadata": {},
   "outputs": [
    {
     "data": {
      "text/plain": [
       "FreqDist({'PHP': 200, 'release': 77, 'The': 76, 'found': 68, 'For': 43, 'downloads': 32, 'source': 31, 'list': 31, 'Windows': 27, '7.3.0': 26, ...})"
      ]
     },
     "execution_count": 14,
     "metadata": {},
     "output_type": "execute_result"
    }
   ],
   "source": [
    "# Get the frequency of words in the input\n",
    "\n",
    "freq=nltk.FreqDist(clean_words)\n",
    "freq"
   ]
  },
  {
   "cell_type": "code",
   "execution_count": 15,
   "metadata": {},
   "outputs": [
    {
     "data": {
      "text/plain": [
       "[('PHP', 200),\n",
       " ('release', 77),\n",
       " ('The', 76),\n",
       " ('found', 68),\n",
       " ('For', 43),\n",
       " ('downloads', 32),\n",
       " ('source', 31),\n",
       " ('list', 31),\n",
       " ('Windows', 27),\n",
       " ('7.3.0', 26),\n",
       " ('Released', 25),\n",
       " ('team', 25),\n",
       " ('please', 25),\n",
       " ('visit', 25),\n",
       " ('binaries', 24),\n",
       " ('read', 23),\n",
       " ('also', 23),\n",
       " ('version', 21),\n",
       " ('2018', 20),\n",
       " ('new', 20),\n",
       " ('features', 20),\n",
       " ('next', 20),\n",
       " ('file', 19),\n",
       " ('files', 19),\n",
       " ('test', 19),\n",
       " ('bug', 19),\n",
       " ('-', 19),\n",
       " ('A', 18),\n",
       " ('download', 18),\n",
       " ('report', 18),\n",
       " ('system.', 18),\n",
       " ('DO', 18),\n",
       " ('NOT', 18),\n",
       " ('information', 18),\n",
       " ('changes,', 18),\n",
       " ('NEWS', 18),\n",
       " ('file,', 18),\n",
       " ('UPGRADING', 18),\n",
       " ('complete', 18),\n",
       " ('upgrading', 18),\n",
       " ('notes.', 18),\n",
       " ('These', 18),\n",
       " ('archive.', 18),\n",
       " ('planned', 18),\n",
       " ('Thank', 18),\n",
       " ('helping', 18),\n",
       " ('us', 18),\n",
       " ('make', 18),\n",
       " ('better.', 18),\n",
       " ('Please', 17)]"
      ]
     },
     "execution_count": 15,
     "metadata": {},
     "output_type": "execute_result"
    }
   ],
   "source": [
    "# Get the frequency of most common words\n",
    "freq.most_common(50)"
   ]
  },
  {
   "cell_type": "code",
   "execution_count": 25,
   "metadata": {},
   "outputs": [
    {
     "data": {
      "image/png": "[encoded data removed]",
      "text/plain": [
       "<Figure size 432x288 with 1 Axes>"
      ]
     },
     "metadata": {},
     "output_type": "display_data"
    }
   ],
   "source": [
    "# Frequency - Visualization \n",
    "freq.plot(25,cumulative=False)"
   ]
  }
 ],
 "metadata": {
  "kernelspec": {
   "display_name": "Python 3",
   "language": "python",
   "name": "python3"
  },
  "language_info": {
   "codemirror_mode": {
    "name": "ipython",
    "version": 3
   },
   "file_extension": ".py",
   "mimetype": "text/x-python",
   "name": "python",
   "nbconvert_exporter": "python",
   "pygments_lexer": "ipython3",
   "version": "3.6.5"
  }
 },
 "nbformat": 4,
 "nbformat_minor": 2
}
